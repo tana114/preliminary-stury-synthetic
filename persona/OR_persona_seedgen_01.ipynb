{
  "cells": [
    {
      "cell_type": "code",
      "execution_count": 1,
      "id": "3bdb2f63",
      "metadata": {},
      "outputs": [],
      "source": [
        "from IPython.display import display, HTML, Math, Markdown"
      ]
    },
    {
      "cell_type": "markdown",
      "id": "e0da3e68",
      "metadata": {},
      "source": [
        "### APT_keyの登録\n",
        "\n",
        "`.env`ファイルを作成して以下のように登録。あるいは、本ファイル内に直接記入しても良い。\n",
        "\n",
        "```\n",
        "OPENROUTER_API_KEY=your_api_key_here\n",
        "```"
      ]
    },
    {
      "cell_type": "code",
      "execution_count": 2,
      "id": "nI0fofz_tUWR",
      "metadata": {
        "id": "nI0fofz_tUWR"
      },
      "outputs": [],
      "source": [
        "\n",
        "import os\n",
        "from dotenv import load_dotenv\n",
        "\n",
        "from typing import List, Dict\n",
        "\n",
        "load_dotenv()\n",
        "\n",
        "# api_key = \"your_api_key_here\"\n",
        "# api_key = os.environ.get(\"OPENAI_API_KEY\")\n",
        "# base_url = \"https://api.openai.com/v1\"\n",
        "\n",
        "# api_key = \"your_api_key_here\"\n",
        "api_key = os.environ.get(\"OPENROUTER_API_KEY\")\n",
        "base_url = \"https://openrouter.ai/api/v1\""
      ]
    },
    {
      "cell_type": "markdown",
      "id": "861e72b7",
      "metadata": {},
      "source": [
        "### 動作確認\n",
        "\n",
        "openaiの仕様に準じているみたいです。`import openai`が使えます。"
      ]
    },
    {
      "cell_type": "code",
      "execution_count": 3,
      "id": "3e7a98a9",
      "metadata": {},
      "outputs": [],
      "source": [
        "import openai\n",
        "\n",
        "client = openai.OpenAI(api_key=api_key, base_url=base_url)"
      ]
    },
    {
      "cell_type": "code",
      "execution_count": 4,
      "id": "531cd5e4",
      "metadata": {},
      "outputs": [
        {
          "name": "stdout",
          "output_type": "stream",
          "text": [
            "こんにちは！何かお手伝いできることはありますか？気軽に話しかけてくださいね！\n"
          ]
        }
      ],
      "source": [
        "msgs:List[Dict[str, str]] = [\n",
        "    {\"role\": \"system\", \"content\": \"あなたは親切なアシスタントです。\"},\n",
        "    {\"role\": \"user\", \"content\": \"こんにちは！\"},\n",
        "]\n",
        "\n",
        "# GPTのテスト\n",
        "response = client.chat.completions.create(\n",
        "    model=\"deepseek/deepseek-r1:free\",\n",
        "    messages=msgs,\n",
        ")\n",
        "print(response.choices[0].message.content)"
      ]
    },
    {
      "cell_type": "code",
      "execution_count": null,
      "id": "b8bf1d7a",
      "metadata": {},
      "outputs": [],
      "source": []
    },
    {
      "cell_type": "markdown",
      "id": "a98f578d",
      "metadata": {},
      "source": [
        "# persona seed の作り方 \n",
        "\n",
        "`proj-persona/PersonaHub` (license: cc-by-nc-sa-4.0)  \n",
        "https://huggingface.co/datasets/proj-persona/PersonaHub  \n",
        "\n",
        "persona\n",
        "```text\n",
        "A scientist who specializes in virology and the study of ancient viruses. This persona is interested in the potential dangers of thawing permafrost and the revival of ancient viruses, and is likely to be part of a research team studying the potential impact of these viruses on human and animal health. This persona may also be familiar with the work of Jean-Michel Claverie, the lead author of the study.\n",
        "\n",
        "```\n",
        "\n",
        "> ウイルス学と古代ウイルスの研究を専門とする科学者。このペルソナは、永久凍土の融解と古代ウイルスの復活の潜在的な危険性に関心を持っており、これらのウイルスが人間と動物の健康に及ぼす潜在的な影響を研究する研究チームの一員である可能性が高い。また、この研究の筆頭著者であるジャン＝ミシェル・クラヴェリー氏の研究にも精通している可能性がある。\n",
        "\n",
        "例えば、上記personaの場合、`{\"subject\":biology, \"group\":microbiology, \"category\": ancient virology}`のような属性があるという前提で、幅広い範囲でその組み合わをLLMに考えてもらう。\n",
        "```\n",
        "{\n",
        "  \"biology\": {\n",
        "    \"microbiology\": [\"virology\", \"bacteriology\", \"mycology\", \"parasitology\", \"environmental microbiology\", \"industrial microbiology\", \"microbial genetics\"],\n",
        "    \"genetics\": [\"molecular genetics\", \"population genetics\", \"human genetics\", \"epigenetics\", \"quantitative genetics\", \"evolutionary genetics\", \"genomic medicine\"],\n",
        "  ...,\n",
        "    \"art and architecture\": [\"art history\", \"architectural theory\", \"visual culture\", \"digital art\", \"conservation science\", \"museum studies\", \"critical heritage studies\"]\n",
        "  }\n",
        "}\n",
        "```\n",
        "  \n",
        "↓  \n",
        "続いて、`{\"subject\":biology, \"group\":microbiology}`のような各属性に対し、専門性の高い関連職業のリストを作成させる。\n",
        "```\n",
        "{\n",
        "  \"biology\": {\n",
        "    \"microbiology\": [\"Clinical Microbiologist\", \"Pharmaceutical Microbiology Researcher\", \"Virologist\", \"Bacteriologist\", \"Mycologist\", \"Microbial Ecologist\"],\n",
        "    \"genetics\": [\n",
        "  ...,\n",
        "    \"art and architecture\": [\"art history\", \"architectural theory\", \"visual culture\", \"digital art\", \"conservation science\", \"museum studies\", \"critical heritage studies\"]\n",
        "  }\n",
        "}\n",
        "```\n",
        "  \n",
        "↓  \n",
        "category×jobで`{\"subject\": \"biology\", \"group\": \"microbiology\", \"category\": \"virology\", \"job\": \"Clinical Microbiologist\"}`というような複数のpersonaを作る。  \n",
        "⇒ 2000弱しかできていない。\n",
        "\n"
      ]
    },
    {
      "cell_type": "code",
      "execution_count": null,
      "id": "70ef6fd4",
      "metadata": {},
      "outputs": [],
      "source": []
    },
    {
      "cell_type": "markdown",
      "id": "295aad80",
      "metadata": {},
      "source": [
        "# 検証\n",
        "\n",
        "自製したpersonaをseedにして問題を生成してみる\n"
      ]
    },
    {
      "cell_type": "markdown",
      "id": "ffea8ef4",
      "metadata": {},
      "source": [
        "## 5. 適用カテゴリと数学スキルについて自分で深堀りさせる\n",
        "  \n",
        " `topic`と`math_skill`について、プレースホルダーを使って深堀りし融合させ、問題の幅を広げる試みをする。\n",
        "\n",
        "↓  \n",
        "難易度：博士課程レベル\n"
      ]
    },
    {
      "cell_type": "code",
      "execution_count": 13,
      "id": "0a0c13cb",
      "metadata": {},
      "outputs": [
        {
          "name": "stdout",
          "output_type": "stream",
          "text": [
            "Create a math problem related to the following persona:\n",
            "\n",
            "A Biomechanics Engineer who specializes in biomedical engineering and the study of medical imaging.\n",
            "\n",
            "Note:\n",
            "\n",
            "1. The math problem should be challenging and involve advanced mathematical skills and knowledge. Only top talents can solve it correctly.\n",
            "2. You should make full use of the persona description to create the math problem to ensure that the math problem is unique and specific to the persona.\n",
            "3. Your response should always start with \"Math problem:\". Your response should not include a solution to the created math problem.\n",
            "4. First, consider <topics> that require advanced mathematical skills closely related to persona descriptions and list the relevant <mathematical skills>. Then, using your knowledge and experience of persona descriptions, create specialised master's or doctoral-level problems that combining the <topics> and <mathematical skills>, which are highly compatible with each other.\n",
            "\n",
            "The following issues should also be avoided when creating the math problem:\n",
            "- Insufficient information: Ploblems may lack the essential details needed to solve them, leaving them incomplete or ambiguous. For example, a trigonometry question might omit the necessary angles or distances.\n",
            "- Unsolvable or computationally intractable problems: Some problems are either unsolvable or require excessive brute-force calculations, which are impractical for evaluating reasoning abilities.\n",
            "- Nonsensical problems: Models sometimes produce problems that are logically inconsistent, confusing or ambiguous, such as a probability issue with unclear parameters or an impossible geometry scenario. Inconsistent, confusing or ambiguous problems, such as a probability issue with unclear parameters or an impossible geometry scenario.\n",
            "\n"
          ]
        }
      ],
      "source": [
        "# persona_deiscription = \"A scientist who specializes in virology and the study of ancient viruses. This persona is interested in the potential dangers of thawing permafrost and the revival of ancient viruses, and is likely to be part of a research team studying the potential impact of these viruses on human and animal health. This persona may also be familiar with the work of Jean-Michel Claverie, the lead author of the study.\"\n",
        "# persona_deiscription = \"A scientist who specializes in virology and the study of ancient viruses.\"\n",
        "\n",
        "\n",
        "# p_seed = {\"subject\": \"computer science\", \"group\": \"artificial intelligence\", \"category\": \"explainable AI\", \"job\": \"AIAI Robotics Researcher\"}\n",
        "p_seed = {\"subject\": \"engineering\", \"group\": \"biomedical engineering\", \"category\": \"medical imaging\", \"job\": \"Biomechanics Engineer\"}\n",
        "\n",
        "persona_deiscription = f\"A {p_seed[\"job\"]} who specializes in {p_seed[\"group\"]} and the study of {p_seed['category']}.\"\n",
        "\n",
        "user_prompt = (\n",
        "    \"Create a math problem related to the following persona:\\n\\n\"\n",
        "    \"{persona}\\n\\n\"\n",
        "    \"Note:\\n\\n\"\n",
        "    \"1. The math problem should be challenging and involve advanced mathematical skills and knowledge. Only top talents can solve it correctly.\\n\"\n",
        "    \"2. You should make full use of the persona description to create the math problem to ensure that the math problem is unique and specific to the persona.\\n\"\n",
        "    '3. Your response should always start with \"Math problem:\". Your response should not include a solution to the created math problem.\\n'\n",
        "    # \"4. Consider the advanced mathematical skills that are highly relevant to the persona description, and create specialised problems at master's or doctoral level that reflect these skills.\"\n",
        "    # \"4. Consider the advanced mathematical skills that are highly relevant to the persona description, and create specialised problems at leading researchers or doctoral-level level that reflect these skills.\\n\\n\"\n",
        "    \"4. First, consider <topics> that require advanced mathematical skills closely related to persona descriptions and list the relevant <mathematical skills>.\"\n",
        "    \" Then, using your knowledge and experience of persona descriptions, create specialised master's or doctoral-level problems that combining the <topics> and <mathematical skills>, which are highly compatible with each other.\\n\\n\"\n",
        "    \n",
        "    \"The following issues should also be avoided when creating the math problem:\\n\"\n",
        "    \"- Insufficient information: Ploblems may lack the essential details needed to solve them, leaving them incomplete or ambiguous. For example, a trigonometry question might omit the necessary angles or distances.\\n\"\n",
        "    \"- Unsolvable or computationally intractable problems: Some problems are either unsolvable or require excessive brute-force calculations, which are impractical for evaluating reasoning abilities.\\n\"\n",
        "    \"- Nonsensical problems: Models sometimes produce problems that are logically inconsistent, confusing or ambiguous, such as a probability issue with unclear parameters or an impossible geometry scenario.\"\n",
        "    \" Inconsistent, confusing or ambiguous problems, such as a probability issue with unclear parameters or an impossible geometry scenario.\\n\"\n",
        "    # \"- Deceitful Solutions: Occasionally, models fabricate solutions to nonsensical or unsolvable problems, presenting incorrect logic as plausible reasoning.\\n\"\n",
        ")\n",
        "\n",
        "print(user_prompt.format(persona=persona_deiscription))\n"
      ]
    },
    {
      "cell_type": "code",
      "execution_count": 14,
      "id": "0b87e26c",
      "metadata": {},
      "outputs": [
        {
          "data": {
            "text/latex": [
              "$\\displaystyle Math problem:  \n",
              "\n",
              "**Biomechanical Modeling of Arterial Blood Flow with Non-Newtonian Viscosity and MRI Signal Reconstruction**  \n",
              "\n",
              "A biomechanics engineer is studying blood flow dynamics in a stenosed (narrowed) artery using medical imaging. Blood is modeled as a non-Newtonian fluid with shear-thinning behavior, governed by the Carreau-Yasuda constitutive equation:  \n",
              "\\[\n",
              "\\mu(\\dot{\\gamma}) = \\mu_\\infty + (\\mu_0 - \\mu_\\infty)\\left[1 + (\\lambda \\dot{\\gamma})^a\\right]^{(n-1)/a},\n",
              "\\]  \n",
              "where \\(\\dot{\\gamma} = \\sqrt{2 \\mathbf{D} : \\mathbf{D}}\\) is the shear rate, \\(\\mathbf{D}\\) is the strain-rate tensor, \\(\\mu_0 = 0.12 \\, \\text{Pa·s}\\), \\(\\mu_\\infty = 0.0035 \\, \\text{Pa·s}\\), \\(\\lambda = 8.2 \\, \\text{s}\\), \\(a = 2\\), and \\(n = 0.356\\).  \n",
              "\n",
              "The axisymmetric arterial stenosis is approximated by the lumen radius function:  \n",
              "\\[\n",
              "R(z) = R_0 \\left[1 - \\beta \\exp\\left(-\\frac{(z - z_0)^2}{2\\sigma^2}\\right)\\right],\n",
              "\\]  \n",
              "where \\(R_0 = 3.0 \\, \\text{mm}\\), \\(\\beta = 0.6\\), \\(\\sigma = 2.5 \\, \\text{mm}\\), and \\(z_0 = 10.0 \\, \\text{mm}\\).  \n",
              "\n",
              "1. **Fluid Dynamics Modeling**:  \n",
              "   Using the continuity and momentum equations for incompressible flow in cylindrical coordinates \\((r, \\theta, z)\\), derive the simplified Navier-Stokes equations for steady, laminar flow under pulsatile pressure gradient \\(\\frac{\\partial p}{\\partial z}(t) = -P_0 \\left[1 + 0.5 \\sin(\\omega t)\\right]\\), where \\(P_0 = 500 \\, \\text{Pa/m}\\) and \\(\\omega = 2\\pi \\, \\text{rad/s}\\). Assume axial symmetry (\\(\\partial/\\partial \\theta = 0\\)) and no swirl. Formulate the boundary conditions for velocity at the arterial wall and symmetry axis.  \n",
              "\n",
              "2. **MRI Velocity Encoding**:  \n",
              "   Phase-contrast MRI measures velocity fields by encoding tissue displacement into signal phase shifts. The phase difference \\(\\Delta \\phi\\) is proportional to the velocity \\(u_z(r,z,t)\\):  \n",
              "   \\[\n",
              "   \\Delta \\phi(r,z) = \\gamma G \\int_0^{\\Delta t} u_z(r,z,t) \\, dt,\n",
              "   \\]  \n",
              "   where \\(\\gamma = 267.5 \\times 10^6 \\, \\text{rad·s}^{-1}\\text{T}^{-1}\\) is the gyromagnetic ratio, \\(G = 40 \\, \\text{mT/m}\\) is the gradient strength, and \\(\\Delta t = 20 \\, \\text{ms}\\).  \n",
              "   Using the velocity profile derived in part 1, compute the Fourier transform of \\(\\Delta \\phi(r,z)\\) with respect to \\(z\\) at \\(r = 0\\) (centerline). Show that the inverse problem of reconstructing \\(u_z(0,z,t)\\) from \\(\\Delta \\phi(0,z)\\) requires solving a Volterra integral equation of the first kind.  \n",
              "\n",
              "**Mathematical Skills Required**:  \n",
              "- Advanced tensor calculus for non-Newtonian fluid constitutive modeling.  \n",
              "- Partial differential equations (Navier-Stokes simplification and boundary layer theory).  \n",
              "- Fourier/Laplace transforms for solving inverse problems in signal reconstruction.  \n",
              "- Volterra integral equations and ill-posedness analysis.$"
            ],
            "text/plain": [
              "<IPython.core.display.Math object>"
            ]
          },
          "execution_count": 14,
          "metadata": {},
          "output_type": "execute_result"
        }
      ],
      "source": [
        "''' 問題の生成 '''\n",
        "\n",
        "msgs:List[Dict[str, str]] = [\n",
        "    {\"role\": \"user\", \"content\": user_prompt.format(persona=persona_deiscription)},\n",
        "]\n",
        "\n",
        "client = openai.OpenAI(api_key=api_key, base_url=base_url)\n",
        "\n",
        "response = client.chat.completions.create(\n",
        "    model=\"deepseek/deepseek-r1:free\",\n",
        "    messages=msgs,\n",
        ")\n",
        "generated_problem = response.choices[0].message.content\n",
        "Math(generated_problem)"
      ]
    },
    {
      "cell_type": "code",
      "execution_count": null,
      "id": "8fe9bf2b",
      "metadata": {},
      "outputs": [],
      "source": []
    },
    {
      "cell_type": "code",
      "execution_count": 30,
      "id": "f6162793",
      "metadata": {},
      "outputs": [],
      "source": [
        "user_prompt = (\n",
        "    \"以下の問題を解いてください。解けない場合はその理由を説明してください。また、問題に不備がある場合は、修正可能であれば<修正済の問題文>を作成し、<修正済みの問題文>と修正箇所の説明を出力した上で、その問題を解いてください。\\n\"\n",
        "    \"{problem}\\n\\n\"\n",
        "    \"問題が解けた場合は、この問題の数学的要求スキルとそれ以外の専門的な知識レベル（学部、修士、博士、学際レベルなど）などを要約し、問題の品質につて分析してください。\\n\"\n",
        "    \"<修正済みの問題文>以外はすべて日本語で回答してください\\n\"\n",
        ")\n",
        "\n",
        "# print(user_prompt.format(problem=generated_problem))"
      ]
    },
    {
      "cell_type": "code",
      "execution_count": 31,
      "id": "c21bdc58",
      "metadata": {},
      "outputs": [
        {
          "data": {
            "text/markdown": [
              "### 問題の分析と解答\n",
              "\n",
              "#### **数学的要求スキルと専門知識レベル**\n",
              "- **数学的スキル**:  \n",
              "  - ベクトル解析とテンソル解析（非ニュートン流体の粘度モデリング）。  \n",
              "  - 非定常ナビエストークス方程式の導出と境界条件の設定（偏微分方程式）。  \n",
              "  - フーリエ変換と逆問題（Volterra積分方程式）の解析。  \n",
              "- **専門知識レベル**:  \n",
              "  - **博士課程以上**：非ニュートン流体力学の高度なモデリング、生体医用画像処理の逆問題解析、微分方程式と積分方程式の厳密解導出に必要な数学的成熟度が必要。学際的（医用生体工学・応用数学・物理学）な背景が求められる。\n",
              "\n",
              "---\n",
              "\n",
              "#### **問題の品質評価**\n",
              "1. **論理的一貫性**:  \n",
              "   - 修正前は「定常流」と「脈動圧力勾配」の矛盾が不備だったが、修正後に解消。  \n",
              "   - 非ニュートン流体の設定とMRI信号再構築の物理的妥当性は高い。  \n",
              "2. **難易度**:  \n",
              "   - 博士レベル以上の深い知識を要する。非ニュートン流体の微分方程式と逆問題を組み合わせた高度な内容。  \n",
              "3. **独創性**:  \n",
              "   - 生体血流と医用画像の実践的問題を数学的厳密性で扱っており、学術的・臨床的意義が高い。  \n",
              "\n",
              "---\n",
              "\n",
              "### <修正済の問題文>\n",
              "**Biomechanical Modeling of Arterial Blood Flow with Non-Newtonian Viscosity and MRI Signal Reconstruction**  \n",
              "\n",
              "A biomechanics engineer is studying blood flow dynamics in a stenosed (narrowed) artery using medical imaging. Blood is modeled as a non-Newtonian fluid with shear-thinning behavior, governed by the Carreau-Yasuda constitutive equation:  \n",
              "\\[\n",
              "\\mu(\\dot{\\gamma}) = \\mu_\\infty + (\\mu_0 - \\mu_\\infty)\\left[1 + (\\lambda \\dot{\\gamma})^a\\right]^{(n-1)/a},\n",
              "\\]  \n",
              "where \\(\\dot{\\gamma} = \\sqrt{2 \\mathbf{D} : \\mathbf{D}}\\) is the shear rate, \\(\\mathbf{D}\\) is the strain-rate tensor, \\(\\mu_0 = 0.12 \\, \\text{Pa·s}\\), \\(\\mu_\\infty = 0.0035 \\, \\text{Pa·s}\\), \\(\\lambda = 8.2 \\, \\text{s}\\), \\(a = 2\\), and \\(n = 0.356\\).  \n",
              "\n",
              "The axisymmetric arterial stenosis is approximated by the lumen radius function:  \n",
              "\\[\n",
              "R(z) = R_0 \\left[1 - \\beta \\exp\\left(-\\frac{(z - z_0)^2}{2\\sigma^2}\\right)\\right],\n",
              "\\]  \n",
              "where \\(R_0 = 3.0 \\, \\text{mm}\\), \\(\\beta = 0.6\\), \\(\\sigma = 2.5 \\, \\text{mm}\\), and \\(z_0 = 10.0 \\, \\text{mm}\\).  \n",
              "\n",
              "1. **Fluid Dynamics Modeling**:  \n",
              "   Using the continuity and momentum equations for incompressible flow in cylindrical coordinates \\((r, \\theta, z)\\), derive the simplified Navier-Stokes equations for laminar flow under pulsatile pressure gradient \\(\\frac{\\partial p}{\\partial z}(t) = -P_0 \\left[1 + 0.5 \\sin(\\omega t)\\right]\\), where \\(P_0 = 500 \\, \\text{Pa/m}\\) and \\(\\omega = 2\\pi \\, \\text{rad/s}\\). Assume axial symmetry (\\(\\partial/\\partial \\theta = 0\\)) and no swirl. Formulate the boundary conditions for velocity at the arterial wall and symmetry axis.  \n",
              "\n",
              "2. **MRI Velocity Encoding**:  \n",
              "   Phase-contrast MRI measures velocity fields by encoding tissue displacement into signal phase shifts. The phase difference \\(\\Delta \\phi\\) is proportional to the velocity \\(u_z(r,z,t)\\):  \n",
              "   \\[\n",
              "   \\Delta \\phi(r,z) = \\gamma G \\int_0^{\\Delta t} u_z(r,z,t) \\, dt,\n",
              "   \\]  \n",
              "   where \\(\\gamma = 267.5 \\times 10^6 \\, \\text{rad·s}^{-1}\\text{T}^{-1}\\) is the gyromagnetic ratio, \\(G = 40 \\, \\text{mT/m}\\) is the gradient strength, and \\(\\Delta t = 20 \\, \\text{ms}\\).  \n",
              "   Using the velocity profile derived in part 1, compute the Fourier transform of \\(\\Delta \\phi(r,z)\\) with respect to \\(z\\) at \\(r = 0\\) (centerline). Show that the inverse problem of reconstructing \\(u_z(0,z,t)\\) from \\(\\Delta \\phi(0,z)\\) requires solving a Volterra integral equation of the first kind.  \n",
              "\n",
              "**修正箇所の説明**:  \n",
              "- 問題1の「steady, laminar flow」から「steady」を削除。脈動圧力勾配（時間依存項）と定常流の矛盾を解消するため。非定常流を暗黙に仮定。  \n",
              "\n",
              "---\n",
              "\n",
              "### **解答の試み**\n",
              "問題の複雑さから、完全な解析解は現実的でないため、以下は方針を示す。\n",
              "\n",
              "#### **1. 非定常ナビエストークス方程式の導出**\n",
              "- **連続の式**:  \n",
              "  \\[\n",
              "  \\frac{1}{r}\\frac{\\partial (r u_r)}{\\partial r} + \\frac{\\partial u_z}{\\partial z} = 0.\n",
              "  \\]  \n",
              "- **運動量方程式（z成分）**:  \n",
              "  \\[\n",
              "  \\rho \\left( \\frac{\\partial u_z}{\\partial t} + u_r \\frac{\\partial u_z}{\\partial r} + u_z \\frac{\\partial u_z}{\\partial z} \\right) = -\\frac{\\partial p}{\\partial z} + \\frac{1}{r}\\frac{\\partial}{\\partial r} \\left( r \\mu(\\dot{\\gamma}) \\frac{\\partial u_z}{\\partial r} \\right).\n",
              "  \\]  \n",
              "  （仮定：radial速度 \\(u_r\\) は微小、粘性項の支配項のみ保持。）  \n",
              "- **境界条件**:  \n",
              "  - 動脈壁 \\(r = R(z)\\): \\(u_z = 0, \\, u_r = 0\\).  \n",
              "  - 中心軸 \\(r = 0\\): \\(\\frac{\\partial u_z}{\\partial r} = 0, \\, u_r = 0\\).  \n",
              "\n",
              "#### **2. MRI信号の逆問題**\n",
              "- **位相差のフーリエ変換**:  \n",
              "  \\[\n",
              "  \\mathcal{F}[\\Delta \\phi(0,z)] = \\gamma G \\int_{-\\infty}^\\infty \\left( \\int_0^{\\Delta t} u_z(0,z,t) dt \\right) e^{-ikz} dz.\n",
              "  \\]  \n",
              "  積分順序を交換し、  \n",
              "  \\[\n",
              "  \\mathcal{F}[\\Delta \\phi] = \\gamma G \\int_0^{\\Delta t} \\mathcal{F}[u_z(0,z,t)] dt.\n",
              "  \\]  \n",
              "  逆問題では、観測データ \\(\\mathcal{F}[\\Delta \\phi]\\) から \\(u_z\\) を再構築するため、積分方程式（Volterra型）を解く必要がある。"
            ],
            "text/plain": [
              "<IPython.core.display.Markdown object>"
            ]
          },
          "execution_count": 31,
          "metadata": {},
          "output_type": "execute_result"
        }
      ],
      "source": [
        "''' 生成した問題の評価 '''\n",
        "msgs:List[Dict[str, str]] = [\n",
        "    {\"role\": \"user\", \"content\": user_prompt.format(problem=generated_problem)},\n",
        "]\n",
        "\n",
        "client = openai.OpenAI(api_key=api_key, base_url=base_url)\n",
        "\n",
        "response = client.chat.completions.create(\n",
        "    model=\"deepseek/deepseek-r1:free\",\n",
        "    messages=msgs,\n",
        ")\n",
        "assessment_result = response.choices[0].message.content\n",
        "Markdown(assessment_result)"
      ]
    },
    {
      "cell_type": "code",
      "execution_count": null,
      "id": "57c4b953",
      "metadata": {},
      "outputs": [],
      "source": []
    },
    {
      "cell_type": "code",
      "execution_count": null,
      "id": "3b1530cc",
      "metadata": {},
      "outputs": [],
      "source": [
        "user_prompt = (\n",
        "    \"以下の問題を解いてください。解けない場合はその理由を説明してください:<要約>。また、問題に不備がある場合は、修正可能であれば<修正済の問題文>を作成し、<修正済みの問題文>と修正箇所の説明:<修正点>を出力した上で、その問題を解いてください。\\n\"\n",
        "    \"{problem}\\n\\n\"\n",
        "    \"問題が解けた場合はその最終回答のみを<回答>に格納してください、回答が複数ある場合は[回答1,回答2,...]とリスト形式の<回答>としてください。\\n\"\n",
        "    \"また問題が解けが場合は、数学的要求スキルとそれ以外の専門的な知識レベル（学部、修士、博士、学際レベルなど）などを要約し、問題の品質につて分析してください\\n\"\n",
        "    \"<修正済みの問題文>以外はすべて日本語で回答してください\\n\"\n",
        "    \"以下のフォーマットで出力し、他のテキストは含めないでください。\\n\"\n",
        "    \"json format:\\n\\n{{'revised_problem':<修正済みの問題文>, 'revise_point':<修正点>, 'answer':<回答>, 'summary':<要約>}}\"\n",
        ")\n",
        "\n",
        "# print(user_prompt.format(problem=generated_problem))"
      ]
    },
    {
      "cell_type": "code",
      "execution_count": 26,
      "id": "e73c68ac",
      "metadata": {},
      "outputs": [
        {
          "data": {
            "text/plain": [
              "\"以下の問題を解いてください。解けない場合はその理由を説明してください:<要約>。また、問題に不備がある場合は、修正可能であれば<修正済の問題文>を作成し、<修正済みの問題文>と修正箇所の説明:<修正点>を出力した上で、その問題を解いてください。\\n{problem}\\n\\n問題が解けた場合はその最終回答のみを<回答>に格納してください、回答が複数ある場合は[回答1,回答2,...]とリスト形式の<回答>としてください。\\nまた問題が解けが場合は、数学的要求スキルとそれ以外の専門的な知識レベル（学部、修士、博士、学際レベルなど）などを要約し、問題の品質につて分析してください\\n<修正済みの問題文>以外はすべて日本語で回答してください\\njson format:\\n\\n{{'revised_problem':<修正済みの問題文>, 'revise_point':<修正点>, 'answer':<回答>, 'summary':<要約>}}\""
            ]
          },
          "execution_count": 26,
          "metadata": {},
          "output_type": "execute_result"
        }
      ],
      "source": [
        "user_prompt"
      ]
    },
    {
      "cell_type": "code",
      "execution_count": 29,
      "id": "f76b8074",
      "metadata": {},
      "outputs": [
        {
          "data": {
            "text/markdown": [
              "```json\n",
              "{\n",
              "  \"revised_problem\": \"**Biomechanical Modeling of Arterial Blood Flow with Non-Newtonian Viscosity and MRI Signal Reconstruction**\\n\\nA biomechanics engineer is studying blood flow dynamics in a stenosed (narrowed) artery using medical imaging. Blood is modeled as a non-Newtonian fluid with shear-thinning behavior, governed by the Carreau-Yasuda constitutive equation:\\n\\\\[\\n\\\\mu(\\\\dot{\\\\gamma}) = \\\\mu_\\\\infty + (\\\\mu_0 - \\\\mu_\\\\infty)\\\\left[1 + (\\\\lambda \\\\dot{\\\\gamma})^a\\\\right]^{(n-1)/a},\\n\\\\]\\nwhere \\\\(\\\\dot{\\\\gamma} = \\\\sqrt{2 \\\\mathbf{D} : \\\\mathbf{D}}\\\\) is the shear rate, \\\\(\\\\mathbf{D}\\\\) is the strain-rate tensor, \\\\(\\\\mu_0 = 0.12 \\\\, \\\\text{Pa·s}\\\\), \\\\(\\\\mu_\\\\infty = 0.0035 \\\\, \\\\text{Pa·s}\\\\), \\\\(\\\\lambda = 8.2 \\\\, \\\\text{s}\\\\), \\\\(a = 2\\\\), and \\\\(n = 0.356\\\\).\\n\\nThe axisymmetric arterial stenosis is approximated by the lumen radius function:\\n\\\\[\\nR(z) = R_0 \\\\left[1 - \\\\beta \\\\exp\\\\left(-\\\\frac{(z - z_0)^2}{2\\\\sigma^2}\\\\right)\\\\right],\\n\\\\]\\nwhere \\\\(R_0 = 3.0 \\\\, \\\\text{mm}\\\\), \\\\(\\\\beta = 0.6\\\\), \\\\(\\\\sigma = 2.5 \\\\, \\\\text{mm}\\\\), and \\\\(z_0 = 10.0 \\\\, \\\\text{mm}\\\\).\\n\\n1. **Fluid Dynamics Modeling**:\\n   Using the continuity and momentum equations for incompressible flow in cylindrical coordinates \\\\((r, \\\\theta, z)\\\\), derive the simplified Navier-Stokes equations for **pulsatile**, laminar flow under pulsatile pressure gradient \\\\(\\\\frac{\\\\partial p}{\\\\partial z}(t) = -P_0 \\\\left[1 + 0.5 \\\\sin(\\\\omega t)\\\\right]\\\\), where \\\\(P_0 = 500 \\\\, \\\\text{Pa/m}\\\\) and \\\\(\\\\omega = 2\\\\pi \\\\, \\\\text{rad/s}\\\\). Assume axial symmetry (\\\\(\\\\partial/\\\\partial \\\\theta = 0\\\\)) and no swirl. Formulate the boundary conditions for velocity at the arterial wall and symmetry axis.\\n\\n2. **MRI Velocity Encoding**:\\n   Phase-contrast MRI measures velocity fields by encoding tissue displacement into signal phase shifts. The phase difference \\\\(\\\\Delta \\\\phi\\\\) is proportional to the velocity \\\\(u_z(r,z,t)\\\\):\\n   \\\\[\\n   \\\\Delta \\\\phi(r,z) = \\\\gamma G \\\\int_0^{\\\\Delta t} u_z(r,z,t) \\\\, dt,\\n   \\\\]\\n   where \\\\(\\\\gamma = 267.5 \\\\times 10^6 \\\\, \\\\text{rad·s}^{-1}\\\\text{T}^{-1}\\\\) is the gyromagnetic ratio, \\\\(G = 40 \\\\, \\\\text{mT/m}\\\\) is the gradient strength, and \\\\(\\\\Delta t = 20 \\\\, \\\\text{ms}\\\\).\\n   Using the velocity profile derived in part 1, compute the Fourier transform of \\\\(\\\\Delta \\\\phi(r,z)\\\\) with respect to \\\\(z\\\\) at \\\\(r = 0\\\\) (centerline). Show that the inverse problem of reconstructing \\\\(u_z(0,z,t)\\\\) from \\\\(\\\\Delta \\\\phi(0,z)\\\\) requires solving a Volterra integral equation of the first kind.\\n\\n**Mathematical Skills Required**:\\n- Advanced tensor calculus for non-Newtonian fluid constitutive modeling.\\n- Partial differential equations (Navier-Stokes simplification for pulsatile flow).\\n- Fourier transforms and integral equations for inverse problems in signal reconstruction.\\n- Analysis of Volterra integral equations.\",\n",
              "  \"revise_point\": \"問題1の **steady** を **pulsatile** に修正: 元の定常流れ（steady flow）の仮定が、与えられた時間依存圧力勾配（sin波を含む）と矛盾していたため、非定常流れ（pulsatile flow）に修正しました。これによりNavier-Stokes方程式の導出が物理的に妥当なものになります。\",\n",
              "  \"answer\": [],\n",
              "  \"summary\": \"この問題は以下の理由で高度すぎて解けません:\\n- **学際性**: 非ニュートン流体力学（Carreau-Yasudaモデル）、脈動流のNavier-Stokes方程式の導出、MRI信号処理（フーリエ変換とVolterra方程式）が組み合わさり、博士レベルの専門知識が必要です。\\n- **数学的難度**: 非線形偏微分方程式の導出と解析解の構築は困難です。\\n- **逆問題の厳密性**: Volterra積分方程式の解析は数値解法必須で、信号のサンプリング条件が不明な点も障壁です。\\n修正後も、非定常流れにおける非ニュートン流体の運動方程式を導出するには、流体力学とテンソル解析の深い理解が必要です。MRI信号の再構築は数学的な逆問題の高度なスキルを要求します。\"\n",
              "}\n",
              "```"
            ],
            "text/plain": [
              "<IPython.core.display.Markdown object>"
            ]
          },
          "execution_count": 29,
          "metadata": {},
          "output_type": "execute_result"
        }
      ],
      "source": [
        "\n",
        "''' 生成した問題の評価 '''\n",
        "msgs:List[Dict[str, str]] = [\n",
        "    {\"role\": \"user\", \"content\": user_prompt.format(problem=generated_problem)},\n",
        "]\n",
        "\n",
        "client = openai.OpenAI(api_key=api_key, base_url=base_url)\n",
        "\n",
        "response = client.chat.completions.create(\n",
        "    model=\"deepseek/deepseek-r1:free\",\n",
        "    messages=msgs,\n",
        ")\n",
        "assessment_result = response.choices[0].message.content\n",
        "Markdown(assessment_result)"
      ]
    }
  ],
  "metadata": {
    "accelerator": "GPU",
    "colab": {
      "gpuType": "T4",
      "provenance": []
    },
    "kernelspec": {
      "display_name": "vllm-312",
      "language": "python",
      "name": "vllm-312"
    },
    "language_info": {
      "codemirror_mode": {
        "name": "ipython",
        "version": 3
      },
      "file_extension": ".py",
      "mimetype": "text/x-python",
      "name": "python",
      "nbconvert_exporter": "python",
      "pygments_lexer": "ipython3",
      "version": "3.12.11"
    }
  },
  "nbformat": 4,
  "nbformat_minor": 5
}
